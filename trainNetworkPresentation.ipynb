{
 "cells": [
  {
   "cell_type": "markdown",
   "metadata": {},
   "source": [
    "Notebook is heavily based on this work:\n",
    "    \n",
    "https://www.pyimagesearch.com/2017/12/11/image-classification-with-keras-and-deep-learning/"
   ]
  },
  {
   "cell_type": "markdown",
   "metadata": {},
   "source": [
    "Load required libraries"
   ]
  },
  {
   "cell_type": "code",
   "execution_count": 1,
   "metadata": {
    "collapsed": false
   },
   "outputs": [
    {
     "name": "stderr",
     "output_type": "stream",
     "text": [
      "Using Theano backend.\n"
     ]
    }
   ],
   "source": [
    "from keras.models import Sequential\n",
    "from keras.layers.convolutional import Conv2D\n",
    "from keras.layers.convolutional import MaxPooling2D\n",
    "from keras.layers.core import Activation\n",
    "from keras.layers.core import Flatten\n",
    "from keras.layers.core import Dense\n",
    "from keras.layers.core import Dropout\n",
    "from keras import backend as K\n",
    "from keras.models import load_model"
   ]
  },
  {
   "cell_type": "code",
   "execution_count": 2,
   "metadata": {
    "collapsed": true
   },
   "outputs": [],
   "source": [
    "%matplotlib inline"
   ]
  },
  {
   "cell_type": "code",
   "execution_count": 3,
   "metadata": {
    "collapsed": true
   },
   "outputs": [],
   "source": [
    "from IPython.display import Image"
   ]
  },
  {
   "cell_type": "code",
   "execution_count": 4,
   "metadata": {
    "collapsed": true
   },
   "outputs": [],
   "source": [
    " # import the necessary packages\n",
    "from keras.preprocessing.image import ImageDataGenerator\n",
    "from keras.optimizers import Adam\n",
    "from keras.optimizers import SGD\n",
    "from sklearn.model_selection import train_test_split\n",
    "from keras.preprocessing.image import img_to_array\n",
    "from keras.utils import to_categorical\n",
    "from imutils import paths\n",
    "import matplotlib.pyplot as plt\n",
    "import numpy as np\n",
    "import random\n",
    "import cv2\n",
    "import os"
   ]
  },
  {
   "cell_type": "markdown",
   "metadata": {},
   "source": [
    "load functions for to gather images into a dataset"
   ]
  },
  {
   "cell_type": "code",
   "execution_count": 5,
   "metadata": {
    "collapsed": false
   },
   "outputs": [],
   "source": [
    "from imagePreparation import buildImagePaths, gatherData"
   ]
  },
  {
   "cell_type": "code",
   "execution_count": 6,
   "metadata": {
    "collapsed": true
   },
   "outputs": [],
   "source": [
    "pathToMarsImages = \"C:\\Users\\\\battlann\\Documents\\work\\CNNpres\\marsBar\\\\\"\n",
    "pathToNotMarsImages = \"C:\\Users\\\\battlann\\Documents\\work\\CNNpres\\\\notMarsBar\\\\\""
   ]
  },
  {
   "cell_type": "code",
   "execution_count": 7,
   "metadata": {
    "collapsed": false
   },
   "outputs": [],
   "source": [
    "imgPaths = buildImagePaths(pathToMarsImages)\n",
    "imgPaths += buildImagePaths(pathToNotMarsImages)\n",
    "imagePaths = sorted(imgPaths)\n",
    "data, labels = gatherData(imgPaths)"
   ]
  },
  {
   "cell_type": "code",
   "execution_count": 8,
   "metadata": {
    "collapsed": false
   },
   "outputs": [
    {
     "data": {
      "text/plain": [
       "2574"
      ]
     },
     "execution_count": 8,
     "metadata": {},
     "output_type": "execute_result"
    }
   ],
   "source": [
    "len(imgPaths)"
   ]
  },
  {
   "cell_type": "code",
   "execution_count": 9,
   "metadata": {
    "collapsed": false
   },
   "outputs": [
    {
     "name": "stdout",
     "output_type": "stream",
     "text": [
      "Wall time: 46.2 s\n"
     ]
    }
   ],
   "source": [
    "%%time\n",
    "data, labels = gatherData(imgPaths)"
   ]
  },
  {
   "cell_type": "markdown",
   "metadata": {},
   "source": [
    "split dataset into train and test. Teach model om Train, validate the result on Test"
   ]
  },
  {
   "cell_type": "code",
   "execution_count": 10,
   "metadata": {
    "collapsed": true
   },
   "outputs": [],
   "source": [
    "(trainX, testX, trainY, testY) = train_test_split(data,labels, test_size=0.25, random_state=42)"
   ]
  },
  {
   "cell_type": "markdown",
   "metadata": {},
   "source": [
    "transform class labels (mars, notMars) into format, suitable for Keras model"
   ]
  },
  {
   "cell_type": "code",
   "execution_count": 11,
   "metadata": {
    "collapsed": true
   },
   "outputs": [],
   "source": [
    "trainY = to_categorical(trainY, num_classes=2)\n",
    "testY = to_categorical(testY, num_classes=2)"
   ]
  },
  {
   "cell_type": "markdown",
   "metadata": {},
   "source": [
    "function to describe the network"
   ]
  },
  {
   "cell_type": "code",
   "execution_count": 26,
   "metadata": {
    "collapsed": true
   },
   "outputs": [],
   "source": [
    "def buildModel(width, height, depth, classes):\n",
    "\t\t# initialize the model\n",
    "\t\tmodel = Sequential()\n",
    "\t\tinputShape = (height, width, depth)\n",
    " \n",
    "\t\t# if we are using \"channels first\", update the input shape\n",
    "\t\tif K.image_data_format() == \"channels_first\":\n",
    "\t\t\tinputShape = (depth, height, width)\n",
    "\t\t# first set of CONV => RELU => POOL layers\n",
    "\t\tmodel.add(Conv2D(20, (5, 5), padding=\"same\",\n",
    "\t\t\tinput_shape=inputShape))\n",
    "\t\tmodel.add(Activation(\"relu\"))\n",
    "\t\tmodel.add(MaxPooling2D(pool_size=(2, 2), strides=(2, 2)))\n",
    "\t\t# second set of CONV => RELU => POOL layers\n",
    "\t\tmodel.add(Conv2D(50, (5, 5), padding=\"same\"))\n",
    "\t\tmodel.add(Activation(\"relu\"))\n",
    "\t\tmodel.add(MaxPooling2D(pool_size=(2, 2), strides=(2, 2)))\n",
    "\t\t# third set of CONV => RELU => POOL layers\n",
    "\t\tmodel.add(Conv2D(50, (5, 5), padding=\"same\"))\n",
    "\t\tmodel.add(Activation(\"relu\"))\n",
    "\t\tmodel.add(MaxPooling2D(pool_size=(2, 2), strides=(2, 2)))\n",
    "\t\t# first (and only) set of FC => RELU layers\n",
    "\t\tmodel.add(Flatten())\n",
    "\t\tmodel.add(Dense(500))\n",
    "\t\tmodel.add(Activation(\"relu\"))\n",
    " \n",
    "\t\t# softmax classifier\n",
    "\t\tmodel.add(Dense(classes))\n",
    "\t\tmodel.add(Activation(\"softmax\"))\n",
    " \n",
    "\t\t# return the constructed network architecture\n",
    "\t\treturn model"
   ]
  },
  {
   "cell_type": "markdown",
   "metadata": {},
   "source": [
    "number of epochs to learn, speed of learning and number of images to fit in memory at once"
   ]
  },
  {
   "cell_type": "code",
   "execution_count": 27,
   "metadata": {
    "collapsed": true
   },
   "outputs": [],
   "source": [
    "EPOCHS = 60\n",
    "INIT_LR = 1e-3\n",
    "BS = 32"
   ]
  },
  {
   "cell_type": "markdown",
   "metadata": {},
   "source": [
    "A trick to distort images, so there is a wider variety of features availale for the model"
   ]
  },
  {
   "cell_type": "code",
   "execution_count": 28,
   "metadata": {
    "collapsed": true
   },
   "outputs": [],
   "source": [
    "aug = ImageDataGenerator(rotation_range=30, width_shift_range=0.1,\n",
    "\theight_shift_range=0.1, shear_range=0.2, zoom_range=0.2,\n",
    "\thorizontal_flip=True, fill_mode=\"nearest\")"
   ]
  },
  {
   "cell_type": "markdown",
   "metadata": {},
   "source": [
    "Build and compile the model. Use Adam algorithm for Loss optimization, Binary crossentropy Loss function"
   ]
  },
  {
   "cell_type": "code",
   "execution_count": 29,
   "metadata": {
    "collapsed": false
   },
   "outputs": [],
   "source": [
    "model = buildModel(width=48, height=48, depth=3, classes=2)\n",
    "opt = Adam(lr=INIT_LR, decay=INIT_LR / EPOCHS)\n",
    "model.compile(loss=\"binary_crossentropy\", optimizer=opt, metrics=[\"accuracy\"])"
   ]
  },
  {
   "cell_type": "markdown",
   "metadata": {},
   "source": [
    "check model structure"
   ]
  },
  {
   "cell_type": "code",
   "execution_count": 30,
   "metadata": {
    "collapsed": false
   },
   "outputs": [
    {
     "name": "stdout",
     "output_type": "stream",
     "text": [
      "_________________________________________________________________\n",
      "Layer (type)                 Output Shape              Param #   \n",
      "=================================================================\n",
      "conv2d_3 (Conv2D)            (None, 48, 48, 20)        1520      \n",
      "_________________________________________________________________\n",
      "activation_5 (Activation)    (None, 48, 48, 20)        0         \n",
      "_________________________________________________________________\n",
      "max_pooling2d_3 (MaxPooling2 (None, 24, 24, 20)        0         \n",
      "_________________________________________________________________\n",
      "conv2d_4 (Conv2D)            (None, 24, 24, 50)        25050     \n",
      "_________________________________________________________________\n",
      "activation_6 (Activation)    (None, 24, 24, 50)        0         \n",
      "_________________________________________________________________\n",
      "max_pooling2d_4 (MaxPooling2 (None, 12, 12, 50)        0         \n",
      "_________________________________________________________________\n",
      "conv2d_5 (Conv2D)            (None, 12, 12, 50)        62550     \n",
      "_________________________________________________________________\n",
      "activation_7 (Activation)    (None, 12, 12, 50)        0         \n",
      "_________________________________________________________________\n",
      "max_pooling2d_5 (MaxPooling2 (None, 6, 6, 50)          0         \n",
      "_________________________________________________________________\n",
      "flatten_2 (Flatten)          (None, 1800)              0         \n",
      "_________________________________________________________________\n",
      "dense_3 (Dense)              (None, 500)               900500    \n",
      "_________________________________________________________________\n",
      "activation_8 (Activation)    (None, 500)               0         \n",
      "_________________________________________________________________\n",
      "dense_4 (Dense)              (None, 2)                 1002      \n",
      "_________________________________________________________________\n",
      "activation_9 (Activation)    (None, 2)                 0         \n",
      "=================================================================\n",
      "Total params: 990,622\n",
      "Trainable params: 990,622\n",
      "Non-trainable params: 0\n",
      "_________________________________________________________________\n"
     ]
    }
   ],
   "source": [
    "model.summary()"
   ]
  },
  {
   "cell_type": "markdown",
   "metadata": {},
   "source": [
    "finally, fit the model! It will take about 25 minutes."
   ]
  },
  {
   "cell_type": "code",
   "execution_count": 31,
   "metadata": {
    "collapsed": false
   },
   "outputs": [
    {
     "name": "stdout",
     "output_type": "stream",
     "text": [
      "Epoch 1/60\n",
      " - 17s - loss: 0.4058 - acc: 0.8488 - val_loss: 0.3396 - val_acc: 0.8742\n",
      "Epoch 2/60\n",
      " - 17s - loss: 0.3215 - acc: 0.8708 - val_loss: 0.3052 - val_acc: 0.8866\n",
      "Epoch 3/60\n",
      " - 16s - loss: 0.3079 - acc: 0.8869 - val_loss: 0.3143 - val_acc: 0.8960\n",
      "Epoch 4/60\n",
      " - 18s - loss: 0.2780 - acc: 0.8964 - val_loss: 0.3011 - val_acc: 0.9130\n",
      "Epoch 5/60\n",
      " - 16s - loss: 0.2580 - acc: 0.9055 - val_loss: 0.2468 - val_acc: 0.9115\n",
      "Epoch 6/60\n",
      " - 17s - loss: 0.2209 - acc: 0.9186 - val_loss: 0.2514 - val_acc: 0.9208\n",
      "Epoch 7/60\n",
      " - 17s - loss: 0.1948 - acc: 0.9333 - val_loss: 0.2794 - val_acc: 0.8960\n",
      "Epoch 8/60\n",
      " - 17s - loss: 0.2593 - acc: 0.9088 - val_loss: 0.2141 - val_acc: 0.9255\n",
      "Epoch 9/60\n",
      " - 17s - loss: 0.1907 - acc: 0.9312 - val_loss: 0.2175 - val_acc: 0.9332\n",
      "Epoch 10/60\n",
      " - 16s - loss: 0.1612 - acc: 0.9448 - val_loss: 0.1755 - val_acc: 0.9488\n",
      "Epoch 11/60\n",
      " - 17s - loss: 0.1744 - acc: 0.9359 - val_loss: 0.2779 - val_acc: 0.8758\n",
      "Epoch 12/60\n",
      " - 19s - loss: 0.1666 - acc: 0.9432 - val_loss: 0.1774 - val_acc: 0.9379\n",
      "Epoch 13/60\n",
      " - 18s - loss: 0.1480 - acc: 0.9500 - val_loss: 0.1586 - val_acc: 0.9488\n",
      "Epoch 14/60\n",
      " - 19s - loss: 0.1270 - acc: 0.9594 - val_loss: 0.1679 - val_acc: 0.9519\n",
      "Epoch 15/60\n",
      " - 19s - loss: 0.1283 - acc: 0.9599 - val_loss: 0.1651 - val_acc: 0.9534\n",
      "Epoch 16/60\n",
      " - 18s - loss: 0.1366 - acc: 0.9510 - val_loss: 0.1913 - val_acc: 0.9332\n",
      "Epoch 17/60\n",
      " - 18s - loss: 0.1324 - acc: 0.9608 - val_loss: 0.1666 - val_acc: 0.9457\n",
      "Epoch 18/60\n",
      " - 18s - loss: 0.1383 - acc: 0.9531 - val_loss: 0.1653 - val_acc: 0.9457\n",
      "Epoch 19/60\n",
      " - 18s - loss: 0.1255 - acc: 0.9615 - val_loss: 0.1612 - val_acc: 0.9472\n",
      "Epoch 20/60\n",
      " - 18s - loss: 0.1234 - acc: 0.9578 - val_loss: 0.1683 - val_acc: 0.9457\n",
      "Epoch 21/60\n",
      " - 18s - loss: 0.1161 - acc: 0.9593 - val_loss: 0.1873 - val_acc: 0.9472\n",
      "Epoch 22/60\n",
      " - 17s - loss: 0.1379 - acc: 0.9556 - val_loss: 0.1912 - val_acc: 0.9270\n",
      "Epoch 23/60\n",
      " - 18s - loss: 0.1318 - acc: 0.9556 - val_loss: 0.1704 - val_acc: 0.9457\n",
      "Epoch 24/60\n",
      " - 18s - loss: 0.1213 - acc: 0.9609 - val_loss: 0.1619 - val_acc: 0.9534\n",
      "Epoch 25/60\n",
      " - 18s - loss: 0.1158 - acc: 0.9588 - val_loss: 0.1630 - val_acc: 0.9410\n",
      "Epoch 26/60\n",
      " - 19s - loss: 0.1056 - acc: 0.9676 - val_loss: 0.1648 - val_acc: 0.9565\n",
      "Epoch 27/60\n",
      " - 18s - loss: 0.1086 - acc: 0.9634 - val_loss: 0.1399 - val_acc: 0.9612\n",
      "Epoch 28/60\n",
      " - 19s - loss: 0.1160 - acc: 0.9597 - val_loss: 0.1616 - val_acc: 0.9534\n",
      "Epoch 29/60\n",
      " - 18s - loss: 0.1022 - acc: 0.9682 - val_loss: 0.1623 - val_acc: 0.9441\n",
      "Epoch 30/60\n",
      " - 20s - loss: 0.0944 - acc: 0.9693 - val_loss: 0.1713 - val_acc: 0.9410\n",
      "Epoch 31/60\n",
      " - 19s - loss: 0.1139 - acc: 0.9640 - val_loss: 0.1584 - val_acc: 0.9472\n",
      "Epoch 32/60\n",
      " - 18s - loss: 0.1078 - acc: 0.9660 - val_loss: 0.1404 - val_acc: 0.9565\n",
      "Epoch 33/60\n",
      " - 19s - loss: 0.0931 - acc: 0.9734 - val_loss: 0.1621 - val_acc: 0.9503\n",
      "Epoch 34/60\n",
      " - 18s - loss: 0.0871 - acc: 0.9729 - val_loss: 0.1468 - val_acc: 0.9565\n",
      "Epoch 35/60\n",
      " - 18s - loss: 0.0896 - acc: 0.9707 - val_loss: 0.1686 - val_acc: 0.9519\n",
      "Epoch 36/60\n",
      " - 20s - loss: 0.1144 - acc: 0.9592 - val_loss: 0.1591 - val_acc: 0.9565\n",
      "Epoch 37/60\n",
      " - 19s - loss: 0.0930 - acc: 0.9693 - val_loss: 0.1512 - val_acc: 0.9581\n",
      "Epoch 38/60\n",
      " - 19s - loss: 0.0909 - acc: 0.9703 - val_loss: 0.1714 - val_acc: 0.9488\n",
      "Epoch 39/60\n",
      " - 18s - loss: 0.0861 - acc: 0.9724 - val_loss: 0.1713 - val_acc: 0.9379\n",
      "Epoch 40/60\n",
      " - 21s - loss: 0.1072 - acc: 0.9625 - val_loss: 0.1548 - val_acc: 0.9472\n",
      "Epoch 41/60\n",
      " - 18s - loss: 0.0900 - acc: 0.9708 - val_loss: 0.2013 - val_acc: 0.9394\n",
      "Epoch 42/60\n",
      " - 18s - loss: 0.1042 - acc: 0.9654 - val_loss: 0.1674 - val_acc: 0.9503\n",
      "Epoch 43/60\n",
      " - 18s - loss: 0.0686 - acc: 0.9797 - val_loss: 0.1925 - val_acc: 0.9519\n",
      "Epoch 44/60\n",
      " - 20s - loss: 0.1133 - acc: 0.9646 - val_loss: 0.1726 - val_acc: 0.9472\n",
      "Epoch 45/60\n",
      " - 18s - loss: 0.0769 - acc: 0.9740 - val_loss: 0.1538 - val_acc: 0.9519\n",
      "Epoch 46/60\n",
      " - 18s - loss: 0.1247 - acc: 0.9609 - val_loss: 0.2030 - val_acc: 0.9457\n",
      "Epoch 47/60\n",
      " - 19s - loss: 0.1125 - acc: 0.9573 - val_loss: 0.1607 - val_acc: 0.9488\n",
      "Epoch 48/60\n",
      " - 18s - loss: 0.2768 - acc: 0.9018 - val_loss: 0.1553 - val_acc: 0.9503\n",
      "Epoch 49/60\n",
      " - 17s - loss: 0.1151 - acc: 0.9645 - val_loss: 0.1910 - val_acc: 0.9410\n",
      "Epoch 50/60\n",
      " - 18s - loss: 0.0940 - acc: 0.9693 - val_loss: 0.1511 - val_acc: 0.9581\n",
      "Epoch 51/60\n",
      " - 19s - loss: 0.0873 - acc: 0.9713 - val_loss: 0.1512 - val_acc: 0.9581\n",
      "Epoch 52/60\n",
      " - 17s - loss: 0.0631 - acc: 0.9812 - val_loss: 0.1660 - val_acc: 0.9472\n",
      "Epoch 53/60\n",
      " - 17s - loss: 0.0843 - acc: 0.9734 - val_loss: 0.1416 - val_acc: 0.9596\n",
      "Epoch 54/60\n",
      " - 18s - loss: 0.0789 - acc: 0.9677 - val_loss: 0.1509 - val_acc: 0.9612\n",
      "Epoch 55/60\n",
      " - 18s - loss: 0.0686 - acc: 0.9786 - val_loss: 0.1571 - val_acc: 0.9596\n",
      "Epoch 56/60\n",
      " - 18s - loss: 0.0759 - acc: 0.9771 - val_loss: 0.1385 - val_acc: 0.9627\n",
      "Epoch 57/60\n",
      " - 18s - loss: 0.0684 - acc: 0.9765 - val_loss: 0.1348 - val_acc: 0.9596\n",
      "Epoch 58/60\n",
      " - 18s - loss: 0.0737 - acc: 0.9755 - val_loss: 0.1828 - val_acc: 0.9596\n",
      "Epoch 59/60\n",
      " - 19s - loss: 0.0697 - acc: 0.9750 - val_loss: 0.1754 - val_acc: 0.9550\n",
      "Epoch 60/60\n",
      " - 18s - loss: 0.0638 - acc: 0.9818 - val_loss: 0.1431 - val_acc: 0.9627\n",
      "Wall time: 18min 10s\n"
     ]
    }
   ],
   "source": [
    "%%time\n",
    "H = model.fit_generator(aug.flow(trainX, trainY, batch_size=BS),\n",
    "\tvalidation_data=(testX, testY), steps_per_epoch=len(trainX) // BS,\n",
    "\tepochs=60, verbose=2)"
   ]
  },
  {
   "cell_type": "markdown",
   "metadata": {},
   "source": [
    "save model to file for future use"
   ]
  },
  {
   "cell_type": "code",
   "execution_count": 32,
   "metadata": {
    "collapsed": true
   },
   "outputs": [],
   "source": [
    "model.save('marsModelCNN3layer.h5')"
   ]
  },
  {
   "cell_type": "code",
   "execution_count": 20,
   "metadata": {
    "collapsed": false
   },
   "outputs": [],
   "source": [
    "#model = load_model('marsModelCNN3layer.h5')"
   ]
  },
  {
   "cell_type": "markdown",
   "metadata": {},
   "source": [
    "Check if Loss function goes down and accuracy goes up"
   ]
  },
  {
   "cell_type": "code",
   "execution_count": 33,
   "metadata": {
    "collapsed": false
   },
   "outputs": [
    {
     "data": {
      "image/png": "[encoded data removed]",
      "text/plain": [
       "<matplotlib.figure.Figure at 0x3167fa58>"
      ]
     },
     "metadata": {},
     "output_type": "display_data"
    }
   ],
   "source": [
    "# plot the training loss and accuracy\n",
    "plt.style.use(\"ggplot\")\n",
    "plt.figure()\n",
    "N = EPOCHS\n",
    "plt.plot(np.arange(0, N), H.history[\"loss\"], label=\"train_loss\")\n",
    "plt.plot(np.arange(0, N), H.history[\"val_loss\"], label=\"val_loss\")\n",
    "plt.plot(np.arange(0, N), H.history[\"acc\"], label=\"train_acc\")\n",
    "plt.plot(np.arange(0, N), H.history[\"val_acc\"], label=\"val_acc\")\n",
    "plt.title(\"Training Loss and Accuracy on Mars/Not Mars\")\n",
    "plt.xlabel(\"Epoch #\")\n",
    "plt.ylabel(\"Loss/Accuracy\")\n",
    "plt.legend(loc=\"lower left\")\n",
    "plt.savefig('3layerLoss.png')"
   ]
  },
  {
   "cell_type": "markdown",
   "metadata": {},
   "source": [
    "Check mean accuracy for last iterations"
   ]
  },
  {
   "cell_type": "code",
   "execution_count": 49,
   "metadata": {
    "collapsed": false
   },
   "outputs": [
    {
     "data": {
      "text/plain": [
       "0.95854037220803856"
      ]
     },
     "execution_count": 49,
     "metadata": {},
     "output_type": "execute_result"
    }
   ],
   "source": [
    "np.mean(H.history[\"val_acc\"][50:60])"
   ]
  },
  {
   "cell_type": "markdown",
   "metadata": {},
   "source": [
    "Check if CNN can recognise *unseen* Mars pictures"
   ]
  },
  {
   "cell_type": "code",
   "execution_count": 50,
   "metadata": {
    "collapsed": true
   },
   "outputs": [],
   "source": [
    "def predictHomeMadeCnn(pathToFile):\n",
    "    image = cv2.imread(pathToFile)\n",
    "    image = cv2.resize(image, (48, 48))\n",
    "    image = img_to_array(image)\n",
    "    image = np.expand_dims(image, axis=0)\n",
    "    yhat = model.predict(image)\n",
    "    print \"probability Mars: {}\".format(yhat[0][1])\n",
    "    print \"probability not Mars: {}\".format(yhat[0][0])\n",
    "    return None"
   ]
  },
  {
   "cell_type": "code",
   "execution_count": 33,
   "metadata": {
    "collapsed": false
   },
   "outputs": [],
   "source": [
    "#Image(\"C:\\Users\\\\battlann\\Documents\\work\\CNNpres\\\\test\\\\babaevskiy_batochnik_s_shokoladnoy_nachinkoy.jpg\")"
   ]
  },
  {
   "cell_type": "code",
   "execution_count": 46,
   "metadata": {
    "collapsed": false
   },
   "outputs": [
    {
     "name": "stdout",
     "output_type": "stream",
     "text": [
      "probability Mars: 0.0\n",
      "probability notMars: 1.0\n"
     ]
    }
   ],
   "source": [
    "predictHomeMadeCnn(\"C:\\Users\\\\battlann\\Documents\\work\\CNNpres\\\\test\\\\babaevskiy_batochnik_s_shokoladnoy_nachinkoy.jpg\")"
   ]
  },
  {
   "cell_type": "markdown",
   "metadata": {},
   "source": [
    "Save a picture of the model"
   ]
  },
  {
   "cell_type": "code",
   "execution_count": 47,
   "metadata": {
    "collapsed": true
   },
   "outputs": [],
   "source": [
    "from keras.utils import plot_model"
   ]
  },
  {
   "cell_type": "code",
   "execution_count": 48,
   "metadata": {
    "collapsed": true
   },
   "outputs": [],
   "source": [
    "plot_model(model, to_file='model.png')"
   ]
  },
  {
   "cell_type": "code",
   "execution_count": null,
   "metadata": {
    "collapsed": true
   },
   "outputs": [],
   "source": []
  }
 ],
 "metadata": {
  "kernelspec": {
   "display_name": "Python 2",
   "language": "python",
   "name": "python2"
  },
  "language_info": {
   "codemirror_mode": {
    "name": "ipython",
    "version": 2
   },
   "file_extension": ".py",
   "mimetype": "text/x-python",
   "name": "python",
   "nbconvert_exporter": "python",
   "pygments_lexer": "ipython2",
   "version": "2.7.14"
  }
 },
 "nbformat": 4,
 "nbformat_minor": 2
}
